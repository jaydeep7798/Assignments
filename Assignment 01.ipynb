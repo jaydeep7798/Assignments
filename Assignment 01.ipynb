{
 "cells": [
  {
   "cell_type": "markdown",
   "id": "b1e3aec8",
   "metadata": {},
   "source": [
    "# values and expression\n",
    "''' * is the expression use for the multipication operation\n",
    "hello is a string\n",
    "-87.8 is float type integer\n",
    "- is mathematical operator\n",
    "/ is use for a division\n",
    "+ is use for the addition \n",
    "6 is a  positive interger'''"
   ]
  },
  {
   "cell_type": "markdown",
   "id": "a9db732c",
   "metadata": {},
   "source": [
    "# Difference between string and variable \n",
    "#VARIABLE\n",
    "'''variable is s symbolic name that is a use to point out the object'''\n",
    "a = 10\n",
    "type(a)\n",
    "'''here supposed object is 10 then the symbolic representation of a is int.\n",
    "there are type of integers like int,float,complex\n",
    " * A variable is considered a tag that is tied to some value\n",
    " * Every variable should start with a alphabet or underscore\n",
    " * No space is allowed in variable\n",
    " * A variable is written with a combination of letter , number and special characters_undersocre\n",
    " \n",
    "STRING\n",
    "string represents group of characters strings are enclosed in double quotes or single quotes \n",
    "ex \"hello\",'jay'\n",
    "Variables are symbols that you can use to store data in strings as variables can make it easier for us to work with strings throughout our Python programs'''\n",
    "\n"
   ]
  },
  {
   "cell_type": "markdown",
   "id": "1420500f",
   "metadata": {},
   "source": [
    "# Three different data types\n",
    "  integer: interger represent the whole number like 7,12,999\n",
    "  float : float represent the number with a decimal point\n",
    "  boolean : representing the logical values like TRUE ,FALSE  \n",
    "''\n",
    "  "
   ]
  },
  {
   "cell_type": "markdown",
   "id": "e84f9cf7",
   "metadata": {},
   "source": [
    "# Expression\n",
    "'''an expression is a combination of operators , operands that is interpreted to produce other value \n",
    "there are severval types of expression \n",
    "1 arthimatic expression \n",
    "arthmatic expression having  a number and a arithmatic operators \n",
    "2+5\n",
    " 2 Relational expression \n",
    "    having a combinaion of valid operands, and relational operators \n",
    "    is known as reletional operators\n",
    "    x =10\n",
    "    y =20\n",
    "    if (x>Y)\n",
    "3 string expression \n",
    " an expression having a valid combination of string operators (+ and -) and string \n",
    "    operands is knows as string expression \n",
    "    name = \" ram \"+ \" -kumar\"\n",
    "     print (name)\n",
    "\n",
    "4 logical expression \n",
    "5 compound expression \n",
    "having a more than one expression is known as compound expression''' \n",
    "\n",
    " \n",
    "        "
   ]
  },
  {
   "cell_type": "markdown",
   "id": "ba889a20",
   "metadata": {},
   "source": [
    "# spam = 10 is a expression or a statement \n",
    "'''where  spam = 10 is an expression and also the a statement too\n",
    "a statement ia an instrucation that a python python interpreter can execute\n",
    "where spam =10is a assignment statement \n",
    "every expression is a statement but the every statement is not an expression \n",
    "like print (\"jay\") is a statement not an expression '''\n",
    " "
   ]
  },
  {
   "cell_type": "code",
   "execution_count": 3,
   "id": "34aaa680",
   "metadata": {},
   "outputs": [
    {
     "data": {
      "text/plain": [
       "23"
      ]
     },
     "execution_count": 3,
     "metadata": {},
     "output_type": "execute_result"
    }
   ],
   "source": [
    "bacon =22\n",
    "bacon +1"
   ]
  },
  {
   "cell_type": "code",
   "execution_count": 4,
   "id": "7c84069a",
   "metadata": {},
   "outputs": [
    {
     "data": {
      "text/plain": [
       "'spamspamspam'"
      ]
     },
     "execution_count": 4,
     "metadata": {},
     "output_type": "execute_result"
    }
   ],
   "source": [
    "'spam'+ 'spamspam'\n",
    "'spam'*3"
   ]
  },
  {
   "cell_type": "markdown",
   "id": "a1447fae",
   "metadata": {},
   "source": [
    "# eggs is a valid variable but 100 is invalid \n",
    "'''the answer is we all know variable should be start with only alphabet or undersocre'''"
   ]
  },
  {
   "cell_type": "code",
   "execution_count": 13,
   "id": "d71cc74f",
   "metadata": {},
   "outputs": [
    {
     "data": {
      "text/plain": [
       "10"
      ]
     },
     "execution_count": 13,
     "metadata": {},
     "output_type": "execute_result"
    }
   ],
   "source": [
    "''' three functions to get the integer, floating point no. and string '''\n",
    "a=10\n",
    "int(a)"
   ]
  },
  {
   "cell_type": "code",
   "execution_count": 10,
   "id": "55f04a0e",
   "metadata": {},
   "outputs": [
    {
     "data": {
      "text/plain": [
       "'kumar'"
      ]
     },
     "execution_count": 10,
     "metadata": {},
     "output_type": "execute_result"
    }
   ],
   "source": [
    "jay =\"kumar\"\n",
    "str(jay)"
   ]
  },
  {
   "cell_type": "code",
   "execution_count": 12,
   "id": "3abeda98",
   "metadata": {},
   "outputs": [
    {
     "data": {
      "text/plain": [
       "50.5"
      ]
     },
     "execution_count": 12,
     "metadata": {},
     "output_type": "execute_result"
    }
   ],
   "source": [
    "_ = '50.5'\n",
    "float(_)"
   ]
  },
  {
   "cell_type": "code",
   "execution_count": 18,
   "id": "dac6de30",
   "metadata": {},
   "outputs": [
    {
     "data": {
      "text/plain": [
       "'i have eaten99burritos'"
      ]
     },
     "execution_count": 18,
     "metadata": {},
     "output_type": "execute_result"
    }
   ],
   "source": [
    "'i have eaten' +  '99'  +'burritos' \n",
    "''' we have write 99 imto this into '99' into this form then we will get \n",
    "output without error'''"
   ]
  },
  {
   "cell_type": "code",
   "execution_count": 3,
   "id": "d6bf3881",
   "metadata": {},
   "outputs": [],
   "source": []
  },
  {
   "cell_type": "code",
   "execution_count": null,
   "id": "c960bc18",
   "metadata": {},
   "outputs": [],
   "source": []
  }
 ],
 "metadata": {
  "kernelspec": {
   "display_name": "Python 3 (ipykernel)",
   "language": "python",
   "name": "python3"
  },
  "language_info": {
   "codemirror_mode": {
    "name": "ipython",
    "version": 3
   },
   "file_extension": ".py",
   "mimetype": "text/x-python",
   "name": "python",
   "nbconvert_exporter": "python",
   "pygments_lexer": "ipython3",
   "version": "3.9.12"
  }
 },
 "nbformat": 4,
 "nbformat_minor": 5
}
