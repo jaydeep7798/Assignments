{
 "cells": [
  {
   "cell_type": "markdown",
   "id": "04e826e1",
   "metadata": {},
   "source": [
    "# 1 what are the two values of the boolean data type and how do you write them\n",
    "''' there are two values of boolean data type TRUE and FALSE'''\n",
    "\n",
    "\n"
   ]
  },
  {
   "cell_type": "code",
   "execution_count": 3,
   "id": "af748678",
   "metadata": {},
   "outputs": [
    {
     "name": "stdout",
     "output_type": "stream",
     "text": [
      "True <class 'bool'>\n",
      "False <class 'bool'>\n"
     ]
    }
   ],
   "source": [
    "T =True\n",
    "F =False\n",
    "print(T,type(T))\n",
    "print(F,type(F))"
   ]
  },
  {
   "cell_type": "markdown",
   "id": "5873865e",
   "metadata": {},
   "source": [
    "#  2 what are three diffrent type of the boolean oprator\n",
    "''' AND , OR , NOT '''\n"
   ]
  },
  {
   "cell_type": "code",
   "execution_count": 6,
   "id": "0859e4ed",
   "metadata": {},
   "outputs": [
    {
     "name": "stdout",
     "output_type": "stream",
     "text": [
      "True\n",
      "True\n",
      "False\n"
     ]
    }
   ],
   "source": [
    "p=10\n",
    "q =20\n",
    "print(p>5 and q>10) \n",
    "print(p>20 or q>10)\n",
    "print(not(p>1))"
   ]
  },
  {
   "cell_type": "markdown",
   "id": "c142c257",
   "metadata": {},
   "source": [
    "#  3 Make a list of each boolean operators truth tables\n",
    "\n",
    "#Truth table for and operator\n",
    "\n",
    "   1  true and true is true,\n",
    "   2  true and false is false ,\n",
    "   3  false  and false is fals,\n",
    "   4  false and true is false.\n",
    "\n",
    "\n",
    "#Truth table for or operator\n",
    "\n",
    "   1  true or true is true ,\n",
    "   2  true or false is true,\n",
    "   3  false or true is true,\n",
    "   4  false or false is false.\n",
    "\n",
    "#Truth table for not operator\n",
    "\n",
    "  1  true not false false not is true.\n",
    "\n",
    "\n"
   ]
  },
  {
   "cell_type": "markdown",
   "id": "b9fbf101",
   "metadata": {},
   "source": [
    "#  4 What are the value for this following expressions\n",
    "5>4 and 3 ==5"
   ]
  },
  {
   "cell_type": "code",
   "execution_count": 1,
   "id": "c8c7a9c7",
   "metadata": {},
   "outputs": [
    {
     "data": {
      "text/plain": [
       "False"
      ]
     },
     "execution_count": 1,
     "metadata": {},
     "output_type": "execute_result"
    }
   ],
   "source": [
    "not (5>4)"
   ]
  },
  {
   "cell_type": "code",
   "execution_count": 2,
   "id": "b01b352d",
   "metadata": {},
   "outputs": [
    {
     "data": {
      "text/plain": [
       "True"
      ]
     },
     "execution_count": 2,
     "metadata": {},
     "output_type": "execute_result"
    }
   ],
   "source": [
    "(5>4) or (3==5)"
   ]
  },
  {
   "cell_type": "code",
   "execution_count": 11,
   "id": "4f85dc55",
   "metadata": {},
   "outputs": [
    {
     "data": {
      "text/plain": [
       "False"
      ]
     },
     "execution_count": 11,
     "metadata": {},
     "output_type": "execute_result"
    }
   ],
   "source": [
    "not((5>4) or (3==5))"
   ]
  },
  {
   "cell_type": "code",
   "execution_count": 13,
   "id": "3ae0ff17",
   "metadata": {},
   "outputs": [
    {
     "data": {
      "text/plain": [
       "False"
      ]
     },
     "execution_count": 13,
     "metadata": {},
     "output_type": "execute_result"
    }
   ],
   "source": [
    "(True and False) and (True == False)"
   ]
  },
  {
   "cell_type": "code",
   "execution_count": 14,
   "id": "e2385985",
   "metadata": {},
   "outputs": [
    {
     "data": {
      "text/plain": [
       "True"
      ]
     },
     "execution_count": 14,
     "metadata": {},
     "output_type": "execute_result"
    }
   ],
   "source": [
    "(not False) or (not True)"
   ]
  },
  {
   "cell_type": "markdown",
   "id": "8b9fc286",
   "metadata": {},
   "source": [
    "# 5 what are  the six comparison operators\n",
    "  1 ==   Equal to\n",
    "  \n",
    "  \n",
    "  \n",
    "  2 <   less than\n",
    "  \n",
    "  \n",
    "  \n",
    "  \n",
    "  3 >  greater than\n",
    "  \n",
    "  \n",
    "  \n",
    "  \n",
    "  4 <=  less than or equal to\n",
    "  \n",
    "  \n",
    "  \n",
    "  \n",
    "  5 >=  greter than or equal to\n",
    "  \n",
    "  \n",
    "  \n",
    "  \n",
    "  6 !=  Not equal to"
   ]
  },
  {
   "cell_type": "markdown",
   "id": "32263d1d",
   "metadata": {},
   "source": [
    "# 6 how do you tell the diffrence between the equal to and assignment operators ? Decsribe a condition when you would use this \n",
    "a = 5+5 ''' in this statement a is the varible we assign value to the variable means store a value of the variable \n",
    "okay and if 5==10 then this double equal sign denoted for the equal to opearation and evaluate boolean'''\n"
   ]
  },
  {
   "cell_type": "code",
   "execution_count": 10,
   "id": "914ab55a",
   "metadata": {},
   "outputs": [
    {
     "name": "stdout",
     "output_type": "stream",
     "text": [
      "True\n"
     ]
    }
   ],
   "source": [
    "a=333\n",
    "if a ==333:\n",
    "    print(a==333)"
   ]
  },
  {
   "cell_type": "markdown",
   "id": "23f0947a",
   "metadata": {},
   "source": [
    "# 7 Identify three blocks in the code"
   ]
  },
  {
   "cell_type": "code",
   "execution_count": 11,
   "id": "d3cf9526",
   "metadata": {},
   "outputs": [
    {
     "name": "stdout",
     "output_type": "stream",
     "text": [
      "ham\n",
      "spam\n",
      "spam\n"
     ]
    }
   ],
   "source": [
    "spam =0\n",
    "if spam ==10:\n",
    "    print('eggs') # Block 01\n",
    "elif spam >5:\n",
    "        print('bacon') #Block 02\n",
    "else:\n",
    "    print('ham')\n",
    "    print('spam') #Block 03\n",
    "    print('spam')\n",
    "    \n",
    "    "
   ]
  },
  {
   "cell_type": "markdown",
   "id": "874f2373",
   "metadata": {},
   "source": [
    "# 8 if your programme is stuck in an endless loop what keys you will presss"
   ]
  },
  {
   "cell_type": "markdown",
   "id": "aa682fa9",
   "metadata": {},
   "source": [
    "''' if over program is stuck in an endless loop then we have to use break \n",
    "statement and apply a break appling a new condition to break a loop  and we can also use the ctrl -c to stop the program fro, the infinity loop'''"
   ]
  },
  {
   "cell_type": "markdown",
   "id": "3b6e584b",
   "metadata": {},
   "source": [
    "# 9 How van you tell the diffrence between break and continue"
   ]
  },
  {
   "cell_type": "markdown",
   "id": "a27dd35e",
   "metadata": {},
   "source": [
    "The break statement will move the execution outside the loop if break condtion is satisfied. Whereas the continue statement will move the execution to the start of the loop"
   ]
  },
  {
   "cell_type": "markdown",
   "id": "1b9f2ee0",
   "metadata": {},
   "source": [
    " # 10 If you had a function named bacon() inside a module named spam, how would you call it after importing spam ?\n",
    " \n",
    " \n",
    " spam.bacon()"
   ]
  },
  {
   "cell_type": "markdown",
   "id": "b3e528e7",
   "metadata": {},
   "source": [
    "# 11 Write code that prints Hello if 1 is stored in spam, prints Howdy if 2 is stored in spam, and prints Greetings! if anything else is stored in spam."
   ]
  },
  {
   "cell_type": "code",
   "execution_count": 23,
   "id": "834b5d0c",
   "metadata": {},
   "outputs": [
    {
     "name": "stdout",
     "output_type": "stream",
     "text": [
      "Hello\n",
      "Howdy\n",
      "Greetings\n"
     ]
    }
   ],
   "source": [
    "# we can use this with help of user define function\n",
    "\n",
    "\n",
    "def spam1(spam):\n",
    "    if spam==1:\n",
    "        print('Hello')\n",
    "    elif spam==2:\n",
    "        print('Howdy')\n",
    "    else:\n",
    "        print('Greetings')\n",
    "        \n",
    "spam1(1) \n",
    "spam1(2)\n",
    "spam1(3)"
   ]
  },
  {
   "cell_type": "markdown",
   "id": "ad4f1d56",
   "metadata": {},
   "source": [
    "  # 12 In a for loop, what is the difference between range(10), range(0, 10), and range(0, 10, 1)?"
   ]
  },
  {
   "cell_type": "markdown",
   "id": "d82ed81e",
   "metadata": {},
   "source": [
    "The range(10) call range from 0 to 9 (but not include 10)\n",
    "The range (0,10) explicitly tells the loop to start at 0\n",
    "The range(0,10,1) explicitly tells the loop to increase the variable by 1 on each iteration"
   ]
  },
  {
   "cell_type": "markdown",
   "id": "565d04d7",
   "metadata": {},
   "source": [
    " # 13. Write a short program that prints the numbers 1 to 10 using a for loop. Then write an equivalent program that prints the numbers 1 to 10 using a while loop ?"
   ]
  },
  {
   "cell_type": "code",
   "execution_count": 5,
   "id": "024fa84f",
   "metadata": {},
   "outputs": [
    {
     "name": "stdout",
     "output_type": "stream",
     "text": [
      "1\n",
      "2\n",
      "3\n",
      "4\n",
      "5\n",
      "6\n",
      "7\n",
      "8\n",
      "9\n",
      "10\n",
      "1\n",
      "2\n",
      "3\n",
      "4\n",
      "5\n",
      "6\n",
      "7\n",
      "8\n",
      "9\n",
      "10\n"
     ]
    }
   ],
   "source": [
    "# using for loop\n",
    "for i in range(1,11):\n",
    "    print(i)\n",
    "#for while loop\n",
    "p=1\n",
    "while p<=10:\n",
    "    print(p)\n",
    "    p=p+1\n",
    "    "
   ]
  },
  {
   "cell_type": "code",
   "execution_count": null,
   "id": "28ee1845",
   "metadata": {},
   "outputs": [],
   "source": []
  }
 ],
 "metadata": {
  "kernelspec": {
   "display_name": "Python 3 (ipykernel)",
   "language": "python",
   "name": "python3"
  },
  "language_info": {
   "codemirror_mode": {
    "name": "ipython",
    "version": 3
   },
   "file_extension": ".py",
   "mimetype": "text/x-python",
   "name": "python",
   "nbconvert_exporter": "python",
   "pygments_lexer": "ipython3",
   "version": "3.9.12"
  }
 },
 "nbformat": 4,
 "nbformat_minor": 5
}
